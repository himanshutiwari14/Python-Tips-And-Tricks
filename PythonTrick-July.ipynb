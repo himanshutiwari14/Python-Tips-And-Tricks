{
 "cells": [
  {
   "cell_type": "markdown",
   "metadata": {},
   "source": [
    "# 10 TIPS AND TRICKS FOR WRITTING SHORTER PYTHON CODE"
   ]
  },
  {
   "cell_type": "markdown",
   "metadata": {},
   "source": [
    "#### 1.Ternary operators also known as conditional expressions are operators that evaluate something based on a condition being true or false."
   ]
  },
  {
   "cell_type": "code",
   "execution_count": 5,
   "metadata": {},
   "outputs": [
    {
     "name": "stdout",
     "output_type": "stream",
     "text": [
      "1\n"
     ]
    }
   ],
   "source": [
    "condition=True\n",
    "if condition:\n",
    "    x=1\n",
    "else:\n",
    "    x=0\n",
    "print(x)   "
   ]
  },
  {
   "cell_type": "code",
   "execution_count": 7,
   "metadata": {},
   "outputs": [
    {
     "name": "stdout",
     "output_type": "stream",
     "text": [
      "1\n"
     ]
    }
   ],
   "source": [
    "#Replaced by\n",
    "condition=True\n",
    "x=1 if condition else 0\n",
    "print(x)"
   ]
  },
  {
   "cell_type": "markdown",
   "metadata": {},
   "source": [
    "#### 2.Computation of large number.The underscore won't effect the program any way ,it will helpful to count number having million or billions  value.\n"
   ]
  },
  {
   "cell_type": "code",
   "execution_count": 14,
   "metadata": {},
   "outputs": [
    {
     "name": "stdout",
     "output_type": "stream",
     "text": [
      "10100000000\n",
      "10,100,000,000\n"
     ]
    }
   ],
   "source": [
    "num1=10_000_000_000\n",
    "num2=100_000_000\n",
    "total=num1+num2\n",
    "print(total)\n",
    "print(f'{total:,}')"
   ]
  },
  {
   "cell_type": "markdown",
   "metadata": {},
   "source": [
    "#### 3.Rather than handling the resources manualy we will use Context Manager to get done work automatically.This is not limited to file handling,One more use case will be where we need to work with threads and manually acquiring and releasing locks.One more example where we will working with database connections.\n"
   ]
  },
  {
   "cell_type": "code",
   "execution_count": 20,
   "metadata": {},
   "outputs": [
    {
     "name": "stdout",
     "output_type": "stream",
     "text": [
      "7\n"
     ]
    }
   ],
   "source": [
    "f=open('pro.txt','r')\n",
    "file_con=f.read()\n",
    "f.close()\n",
    "words=file_con.split(\" \")\n",
    "word_count=len(words)\n",
    "print(word_count)\n",
    "#Code where we open file in first line,and closing the file in 3rd line manualy."
   ]
  },
  {
   "cell_type": "code",
   "execution_count": 21,
   "metadata": {},
   "outputs": [
    {
     "name": "stdout",
     "output_type": "stream",
     "text": [
      "7\n"
     ]
    }
   ],
   "source": [
    "#code which will automatically close the resource (text file).\n",
    "with open('pro.txt','r')as f:\n",
    "    file_con=f.read()\n",
    "    words=file_con.split(\" \")\n",
    "    word_count=len(words)\n",
    "    print(word_count)"
   ]
  },
  {
   "cell_type": "markdown",
   "metadata": {},
   "source": [
    "#### 4.Enumerate ,which helps us to iterate through a list along with the index,so we don't need to worry about the index associated with the value,passing start inside enemurate helps to initialize the starting index value"
   ]
  },
  {
   "cell_type": "code",
   "execution_count": 27,
   "metadata": {},
   "outputs": [
    {
     "name": "stdout",
     "output_type": "stream",
     "text": [
      "1 M.S_Dhoni\n",
      "2 Joe_Root\n",
      "3 Kane_Williamson\n",
      "4 David_Warner\n"
     ]
    }
   ],
   "source": [
    "batsman=[\"M.S_Dhoni\",\"Joe_Root\",\"Kane_Williamson\",\"David_Warner\"]\n",
    "\n",
    "index=1\n",
    "for i in batsman:\n",
    "    print(index,i)\n",
    "    index=index+1\n",
    "    "
   ]
  },
  {
   "cell_type": "code",
   "execution_count": 28,
   "metadata": {},
   "outputs": [
    {
     "name": "stdout",
     "output_type": "stream",
     "text": [
      "1 Jasprit_Bumarh\n",
      "2 Mitchell_Starc\n",
      "3 Jofra_Archer\n",
      "4 Trent_Boult\n"
     ]
    }
   ],
   "source": [
    "#We can replace it by enumerate\n",
    "bowler=[\"Jasprit_Bumarh\",\"Mitchell_Starc\",\"Jofra_Archer\",\"Trent_Boult\"]\n",
    "for index,value in enumerate(bowler,start=1):\n",
    "    print(index,value)"
   ]
  },
  {
   "cell_type": "markdown",
   "metadata": {},
   "source": [
    "#### 5. Zip method help us to iterate through multiple lists ,index wise..."
   ]
  },
  {
   "cell_type": "code",
   "execution_count": 31,
   "metadata": {},
   "outputs": [
    {
     "name": "stdout",
     "output_type": "stream",
     "text": [
      "Worlds gretaest batsman M.S_Dhoni and bowlers are Jasprit_Bumarh \n",
      "Worlds gretaest batsman Joe_Root and bowlers are Mitchell_Starc \n",
      "Worlds gretaest batsman Kane_Williamson and bowlers are Jofra_Archer \n",
      "Worlds gretaest batsman David_Warner and bowlers are Trent_Boult \n"
     ]
    }
   ],
   "source": [
    "#Wrong method to iterate through multiple list,.\n",
    "batsman=[\"M.S_Dhoni\",\"Joe_Root\",\"Kane_Williamson\",\"David_Warner\"]\n",
    "bowler=[\"Jasprit_Bumarh\",\"Mitchell_Starc\",\"Jofra_Archer\",\"Trent_Boult\"]\n",
    "for index,value in enumerate(batsman):\n",
    "    print(f\"Worlds gretaest batsman {value} and bowlers are {bowler[index]} \")"
   ]
  },
  {
   "cell_type": "code",
   "execution_count": 32,
   "metadata": {},
   "outputs": [
    {
     "name": "stdout",
     "output_type": "stream",
     "text": [
      "World gretaest batsman M.S_Dhoni adn bolwers are Jasprit_Bumarh\n",
      "World gretaest batsman Joe_Root adn bolwers are Mitchell_Starc\n",
      "World gretaest batsman Kane_Williamson adn bolwers are Jofra_Archer\n",
      "World gretaest batsman David_Warner adn bolwers are Trent_Boult\n"
     ]
    }
   ],
   "source": [
    "#rather than using enemurate we will use zip to unpack the values\n",
    "batsman=[\"M.S_Dhoni\",\"Joe_Root\",\"Kane_Williamson\",\"David_Warner\"]\n",
    "bowler=[\"Jasprit_Bumarh\",\"Mitchell_Starc\",\"Jofra_Archer\",\"Trent_Boult\"]\n",
    "for bm,bw in zip(batsmen,bowler):\n",
    "    print(f\"World gretaest batsman {bm} adn bolwers are {bw}\")"
   ]
  },
  {
   "cell_type": "markdown",
   "metadata": {},
   "source": [
    "#### 6.Method to pass Credential values when we are not storing it in enviornmental variables.\n"
   ]
  },
  {
   "cell_type": "code",
   "execution_count": 33,
   "metadata": {},
   "outputs": [
    {
     "name": "stdout",
     "output_type": "stream",
     "text": [
      "Enter Username:himanshu\n",
      "Enter Password:jhfddd\n",
      "logging in....\n"
     ]
    }
   ],
   "source": [
    "#wrong way\n",
    "username=input(\"Enter Username:\")\n",
    "password=input(\"Enter Password:\")\n",
    "print(\"logging in....\")"
   ]
  },
  {
   "cell_type": "code",
   "execution_count": 35,
   "metadata": {},
   "outputs": [
    {
     "name": "stdout",
     "output_type": "stream",
     "text": [
      "Enter Username:himanshu\n",
      "Enter Password:········\n",
      "logging in....\n"
     ]
    }
   ],
   "source": [
    "#correct way\n",
    "from getpass import getpass\n",
    "username=input(\"Enter Username:\")\n",
    "password=getpass(\"Enter Password:\")\n",
    "print(\"logging in....\")"
   ]
  },
  {
   "cell_type": "code",
   "execution_count": null,
   "metadata": {},
   "outputs": [],
   "source": []
  },
  {
   "cell_type": "code",
   "execution_count": null,
   "metadata": {},
   "outputs": [],
   "source": []
  }
 ],
 "metadata": {
  "kernelspec": {
   "display_name": "Python 3",
   "language": "python",
   "name": "python3"
  },
  "language_info": {
   "codemirror_mode": {
    "name": "ipython",
    "version": 3
   },
   "file_extension": ".py",
   "mimetype": "text/x-python",
   "name": "python",
   "nbconvert_exporter": "python",
   "pygments_lexer": "ipython3",
   "version": "3.7.3"
  }
 },
 "nbformat": 4,
 "nbformat_minor": 2
}
